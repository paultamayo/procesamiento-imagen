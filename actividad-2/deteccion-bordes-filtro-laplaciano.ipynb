{
 "cells": [
  {
   "cell_type": "markdown",
   "metadata": {
    "collapsed": false
   },
   "source": [
    "<h1 align=\"center\">Laboratorio: <span style=\"font-weight:normal\">Uso reales de filtros espaciales y morfológicos</span></h1>"
   ]
  },
  {
   "cell_type": "code",
   "execution_count": 7,
   "metadata": {
    "collapsed": false
   },
   "outputs": [],
   "source": [
    "import numpy as np\n",
    "import scipy.ndimage as ndi\n",
    "import cv2\n",
    "from datetime import datetime\n",
    "from PIL import Image, ImageOps"
   ]
  },
  {
   "cell_type": "code",
   "execution_count": 8,
   "metadata": {
    "collapsed": false
   },
   "outputs": [],
   "source": [
    "# Implementación desarrollada por mi parte para poder distinguir la imagen con su implementación\n",
    "def guardar_mostrar_imagen(imagen_procesada, titulo_imagen: str = \"\", nombre_imagen: str = \"\"):\n",
    "    time = datetime.now()\n",
    "    ruta_imagen_procesada = \"img-fil-laplaciano/procesadas/\" + nombre_imagen + \"_\" + time.strftime(\"%f\") + \".jpg\"\n",
    "\n",
    "    cv2.putText(imagen_procesada, titulo_imagen, (3, 50), cv2.FONT_HERSHEY_SIMPLEX, 1, (255, 0, 0), 2, cv2.LINE_AA)\n",
    "    cv2.imwrite(ruta_imagen_procesada, imagen_procesada)\n",
    "    img_2 = Image.open(ruta_imagen_procesada)\n",
    "    img_2.show()"
   ]
  },
  {
   "cell_type": "code",
   "execution_count": 9,
   "metadata": {
    "collapsed": false
   },
   "outputs": [],
   "source": [
    "def high_pass_filter(img_in):\n",
    "    # Write high pass filter here\n",
    "    dft = cv2.dft(np.float32(img_in), flags=cv2.DFT_COMPLEX_OUTPUT)\n",
    "    dft_shift = np.fft.fftshift(dft)\n",
    "    magnitude_spectrum = 20 * np.log(cv2.magnitude(dft_shift[:, :, 0], dft_shift[:, :, 1]))\n",
    "    rows, cols = img_in.shape\n",
    "    crow, ccol = rows / 2, cols / 2\n",
    "    mask = np.ones((rows, cols, 2), np.uint8)\n",
    "    mask[int(crow - 10):int(crow + 10), int(ccol - 10):int(ccol + 10)] = 0\n",
    "    fshift = dft_shift * mask\n",
    "    f_ishift = np.fft.ifftshift(fshift)\n",
    "    img_back = cv2.idft(f_ishift, flags=cv2.DFT_SCALE | cv2.DFT_REAL_OUTPUT)\n",
    "    img_out = img_back  # High pass filter result\n",
    "\n",
    "    return img_out"
   ]
  },
  {
   "cell_type": "code",
   "execution_count": 10,
   "metadata": {
    "collapsed": false
   },
   "outputs": [],
   "source": [
    "def procesar_imagen_con_opencv(path_image: str):\n",
    "    ddepth = cv2.CV_16S\n",
    "    kernel_size = 3\n",
    "    source = cv2.imread(path_image, cv2.IMREAD_COLOR)\n",
    "\n",
    "    # Eliminación del ruido difuminado con el filtro gaussiano\n",
    "    imagen_filtro_guassiano = cv2.GaussianBlur(source, (3, 3), 0)\n",
    "\n",
    "    # Convertir la imagen a escala de grises\n",
    "    imagen_escala_grises = cv2.cvtColor(imagen_filtro_guassiano, cv2.COLOR_BGR2GRAY)\n",
    "\n",
    "    # Aplicación de la función Laplace para el realce de bordes\n",
    "    imagen_procesada = cv2.Laplacian(imagen_escala_grises, ddepth, ksize=kernel_size)\n",
    "    imagen_procesada = cv2.convertScaleAbs(imagen_procesada)\n",
    "\n",
    "    return imagen_procesada"
   ]
  },
  {
   "cell_type": "code",
   "execution_count": 11,
   "metadata": {
    "collapsed": false
   },
   "outputs": [],
   "source": [
    "def paso_alto(ruta_imagen_a_procesar: str):\n",
    "    # Visualización de la imagen de original\n",
    "    img = Image.open(ruta_imagen_a_procesar)\n",
    "    img.show()\n",
    "\n",
    "    # Imagen procesada con algoritmo encontrado en el repositorio Github de la autora nishagandhi\n",
    "    # https://github.com/nishagandhi/Histogram-Filters-Blending\n",
    "    image_algoritmo_personalizado = cv2.imread(ruta_imagen_a_procesar, 0)\n",
    "    imagen_procesada_algoritmo_personalizado = high_pass_filter(image_algoritmo_personalizado)\n",
    "    guardar_mostrar_imagen(imagen_procesada_algoritmo_personalizado, \"Implementacion de nishagandhi\",\n",
    "                           \"Imagen_Procesada_Implementacion_Paso_Alto\")\n",
    "\n",
    "    # Implententación obtenida del libro Raspberry Pi Image Processing Programming Segunda Edicion\n",
    "    escala_de_grises_scipy = ImageOps.grayscale(img)\n",
    "    imagen_procesa_scipy = ndi.laplace(escala_de_grises_scipy)\n",
    "    guardar_mostrar_imagen(imagen_procesa_scipy, \"Imagen Procesada con Scipy\", \"Imagen_Procesada_Con_Libreria_Scipy\")\n",
    "\n",
    "    # Implementación obtenida de la documentación oficial de la librería OpenCV\n",
    "    # https://docs.opencv.org/4.x/d5/db5/tutorial_laplace_operator.html\n",
    "    imagen_procesa_opencv = procesar_imagen_con_opencv(ruta_imagen_a_procesar)\n",
    "    guardar_mostrar_imagen(imagen_procesa_opencv, \"Imagen Procesada con OpenCV\", \"Imagen_Procesada_Con_Libreria_OpenCV\")"
   ]
  },
  {
   "cell_type": "code",
   "execution_count": 12,
   "metadata": {
    "collapsed": false
   },
   "outputs": [],
   "source": [
    "image_1 = \"img-fil-laplaciano/1.jpg\"\n",
    "image_2 = \"img-fil-laplaciano/2.jpg\"\n",
    "\n",
    "paso_alto(image_2)"
   ]
  }
 ],
 "metadata": {
  "kernelspec": {
   "display_name": "Python 3",
   "language": "python",
   "name": "python3"
  },
  "language_info": {
   "codemirror_mode": {
    "name": "ipython",
    "version": 2
   },
   "file_extension": ".py",
   "mimetype": "text/x-python",
   "name": "python",
   "nbconvert_exporter": "python",
   "pygments_lexer": "ipython2",
   "version": "2.7.6"
  }
 },
 "nbformat": 4,
 "nbformat_minor": 0
}
